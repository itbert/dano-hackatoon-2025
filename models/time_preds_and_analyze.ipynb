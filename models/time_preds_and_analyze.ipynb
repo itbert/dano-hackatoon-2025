{
 "cells": [
  {
   "cell_type": "code",
   "execution_count": 1,
   "metadata": {},
   "outputs": [
    {
     "name": "stderr",
     "output_type": "stream",
     "text": [
      "/Users/albert/Programming/dano-hackatoon-2025/venv/lib/python3.13/site-packages/tqdm/auto.py:21: TqdmWarning: IProgress not found. Please update jupyter and ipywidgets. See https://ipywidgets.readthedocs.io/en/stable/user_install.html\n",
      "  from .autonotebook import tqdm as notebook_tqdm\n",
      "Importing plotly failed. Interactive plots will not work.\n"
     ]
    }
   ],
   "source": [
    "import pandas as pd\n",
    "import matplotlib.pyplot as plt\n",
    "from prophet import Prophet\n",
    "from sklearn.cluster import KMeans\n",
    "import seaborn as sns"
   ]
  },
  {
   "cell_type": "code",
   "execution_count": 2,
   "metadata": {},
   "outputs": [
    {
     "name": "stderr",
     "output_type": "stream",
     "text": [
      "/var/folders/qf/xy929rcx1xnc19y51wt8zct00000gn/T/ipykernel_3826/207400473.py:5: UserWarning: Parsing dates in %d.%m.%Y %H:%M format when dayfirst=False (the default) was specified. Pass `dayfirst=True` or specify a format to silence this warning.\n",
      "  purchases = pd.read_csv('data/coins-out.csv',\n"
     ]
    }
   ],
   "source": [
    "earnings = pd.read_csv('data/coins-come.csv', \n",
    "                       parse_dates=['Дата'],\n",
    "                       sep=';',\n",
    "                       encoding='utf-8-sig')\n",
    "purchases = pd.read_csv('data/coins-out.csv', \n",
    "                        parse_dates=['Дата оформления заказа'], \n",
    "                        sep=';',\n",
    "                        encoding='utf-8-sig')"
   ]
  },
  {
   "cell_type": "code",
   "execution_count": 3,
   "metadata": {},
   "outputs": [
    {
     "ename": "TypeError",
     "evalue": "Only valid with DatetimeIndex, TimedeltaIndex or PeriodIndex, but got an instance of 'Index'",
     "output_type": "error",
     "traceback": [
      "\u001b[31m---------------------------------------------------------------------------\u001b[39m",
      "\u001b[31mTypeError\u001b[39m                                 Traceback (most recent call last)",
      "\u001b[36mCell\u001b[39m\u001b[36m \u001b[39m\u001b[32mIn[3]\u001b[39m\u001b[32m, line 3\u001b[39m\n\u001b[32m      1\u001b[39m \u001b[38;5;66;03m# 1. Прогнозирование активности заработка бобров\u001b[39;00m\n\u001b[32m      2\u001b[39m \u001b[38;5;66;03m# Агрегация по дням\u001b[39;00m\n\u001b[32m----> \u001b[39m\u001b[32m3\u001b[39m daily_earnings = \u001b[43mearnings\u001b[49m\u001b[43m.\u001b[49m\u001b[43mgroupby\u001b[49m\u001b[43m(\u001b[49m\u001b[43mpd\u001b[49m\u001b[43m.\u001b[49m\u001b[43mGrouper\u001b[49m\u001b[43m(\u001b[49m\u001b[43mkey\u001b[49m\u001b[43m=\u001b[49m\u001b[33;43m'\u001b[39;49m\u001b[33;43mДата\u001b[39;49m\u001b[33;43m'\u001b[39;49m\u001b[43m,\u001b[49m\u001b[43m \u001b[49m\u001b[43mfreq\u001b[49m\u001b[43m=\u001b[49m\u001b[33;43m'\u001b[39;49m\u001b[33;43mD\u001b[39;49m\u001b[33;43m'\u001b[39;49m\u001b[43m)\u001b[49m\u001b[43m)\u001b[49m[\u001b[33m'\u001b[39m\u001b[33mСумма вознаграждения\u001b[39m\u001b[33m'\u001b[39m].sum().reset_index()\n\u001b[32m      5\u001b[39m \u001b[38;5;66;03m# Подготовка данных для Prophet\u001b[39;00m\n\u001b[32m      6\u001b[39m earnings_prophet = daily_earnings.rename(columns={\u001b[33m'\u001b[39m\u001b[33mДата\u001b[39m\u001b[33m'\u001b[39m: \u001b[33m'\u001b[39m\u001b[33mds\u001b[39m\u001b[33m'\u001b[39m, \u001b[33m'\u001b[39m\u001b[33mСумма вознаграждения\u001b[39m\u001b[33m'\u001b[39m: \u001b[33m'\u001b[39m\u001b[33my\u001b[39m\u001b[33m'\u001b[39m})\n",
      "\u001b[36mFile \u001b[39m\u001b[32m~/Programming/dano-hackatoon-2025/venv/lib/python3.13/site-packages/pandas/core/frame.py:9183\u001b[39m, in \u001b[36mDataFrame.groupby\u001b[39m\u001b[34m(self, by, axis, level, as_index, sort, group_keys, observed, dropna)\u001b[39m\n\u001b[32m   9180\u001b[39m \u001b[38;5;28;01mif\u001b[39;00m level \u001b[38;5;129;01mis\u001b[39;00m \u001b[38;5;28;01mNone\u001b[39;00m \u001b[38;5;129;01mand\u001b[39;00m by \u001b[38;5;129;01mis\u001b[39;00m \u001b[38;5;28;01mNone\u001b[39;00m:\n\u001b[32m   9181\u001b[39m     \u001b[38;5;28;01mraise\u001b[39;00m \u001b[38;5;167;01mTypeError\u001b[39;00m(\u001b[33m\"\u001b[39m\u001b[33mYou have to supply one of \u001b[39m\u001b[33m'\u001b[39m\u001b[33mby\u001b[39m\u001b[33m'\u001b[39m\u001b[33m and \u001b[39m\u001b[33m'\u001b[39m\u001b[33mlevel\u001b[39m\u001b[33m'\u001b[39m\u001b[33m\"\u001b[39m)\n\u001b[32m-> \u001b[39m\u001b[32m9183\u001b[39m \u001b[38;5;28;01mreturn\u001b[39;00m \u001b[43mDataFrameGroupBy\u001b[49m\u001b[43m(\u001b[49m\n\u001b[32m   9184\u001b[39m \u001b[43m    \u001b[49m\u001b[43mobj\u001b[49m\u001b[43m=\u001b[49m\u001b[38;5;28;43mself\u001b[39;49m\u001b[43m,\u001b[49m\n\u001b[32m   9185\u001b[39m \u001b[43m    \u001b[49m\u001b[43mkeys\u001b[49m\u001b[43m=\u001b[49m\u001b[43mby\u001b[49m\u001b[43m,\u001b[49m\n\u001b[32m   9186\u001b[39m \u001b[43m    \u001b[49m\u001b[43maxis\u001b[49m\u001b[43m=\u001b[49m\u001b[43maxis\u001b[49m\u001b[43m,\u001b[49m\n\u001b[32m   9187\u001b[39m \u001b[43m    \u001b[49m\u001b[43mlevel\u001b[49m\u001b[43m=\u001b[49m\u001b[43mlevel\u001b[49m\u001b[43m,\u001b[49m\n\u001b[32m   9188\u001b[39m \u001b[43m    \u001b[49m\u001b[43mas_index\u001b[49m\u001b[43m=\u001b[49m\u001b[43mas_index\u001b[49m\u001b[43m,\u001b[49m\n\u001b[32m   9189\u001b[39m \u001b[43m    \u001b[49m\u001b[43msort\u001b[49m\u001b[43m=\u001b[49m\u001b[43msort\u001b[49m\u001b[43m,\u001b[49m\n\u001b[32m   9190\u001b[39m \u001b[43m    \u001b[49m\u001b[43mgroup_keys\u001b[49m\u001b[43m=\u001b[49m\u001b[43mgroup_keys\u001b[49m\u001b[43m,\u001b[49m\n\u001b[32m   9191\u001b[39m \u001b[43m    \u001b[49m\u001b[43mobserved\u001b[49m\u001b[43m=\u001b[49m\u001b[43mobserved\u001b[49m\u001b[43m,\u001b[49m\n\u001b[32m   9192\u001b[39m \u001b[43m    \u001b[49m\u001b[43mdropna\u001b[49m\u001b[43m=\u001b[49m\u001b[43mdropna\u001b[49m\u001b[43m,\u001b[49m\n\u001b[32m   9193\u001b[39m \u001b[43m\u001b[49m\u001b[43m)\u001b[49m\n",
      "\u001b[36mFile \u001b[39m\u001b[32m~/Programming/dano-hackatoon-2025/venv/lib/python3.13/site-packages/pandas/core/groupby/groupby.py:1329\u001b[39m, in \u001b[36mGroupBy.__init__\u001b[39m\u001b[34m(self, obj, keys, axis, level, grouper, exclusions, selection, as_index, sort, group_keys, observed, dropna)\u001b[39m\n\u001b[32m   1326\u001b[39m \u001b[38;5;28mself\u001b[39m.dropna = dropna\n\u001b[32m   1328\u001b[39m \u001b[38;5;28;01mif\u001b[39;00m grouper \u001b[38;5;129;01mis\u001b[39;00m \u001b[38;5;28;01mNone\u001b[39;00m:\n\u001b[32m-> \u001b[39m\u001b[32m1329\u001b[39m     grouper, exclusions, obj = \u001b[43mget_grouper\u001b[49m\u001b[43m(\u001b[49m\n\u001b[32m   1330\u001b[39m \u001b[43m        \u001b[49m\u001b[43mobj\u001b[49m\u001b[43m,\u001b[49m\n\u001b[32m   1331\u001b[39m \u001b[43m        \u001b[49m\u001b[43mkeys\u001b[49m\u001b[43m,\u001b[49m\n\u001b[32m   1332\u001b[39m \u001b[43m        \u001b[49m\u001b[43maxis\u001b[49m\u001b[43m=\u001b[49m\u001b[43maxis\u001b[49m\u001b[43m,\u001b[49m\n\u001b[32m   1333\u001b[39m \u001b[43m        \u001b[49m\u001b[43mlevel\u001b[49m\u001b[43m=\u001b[49m\u001b[43mlevel\u001b[49m\u001b[43m,\u001b[49m\n\u001b[32m   1334\u001b[39m \u001b[43m        \u001b[49m\u001b[43msort\u001b[49m\u001b[43m=\u001b[49m\u001b[43msort\u001b[49m\u001b[43m,\u001b[49m\n\u001b[32m   1335\u001b[39m \u001b[43m        \u001b[49m\u001b[43mobserved\u001b[49m\u001b[43m=\u001b[49m\u001b[38;5;28;43;01mFalse\u001b[39;49;00m\u001b[43m \u001b[49m\u001b[38;5;28;43;01mif\u001b[39;49;00m\u001b[43m \u001b[49m\u001b[43mobserved\u001b[49m\u001b[43m \u001b[49m\u001b[38;5;129;43;01mis\u001b[39;49;00m\u001b[43m \u001b[49m\u001b[43mlib\u001b[49m\u001b[43m.\u001b[49m\u001b[43mno_default\u001b[49m\u001b[43m \u001b[49m\u001b[38;5;28;43;01melse\u001b[39;49;00m\u001b[43m \u001b[49m\u001b[43mobserved\u001b[49m\u001b[43m,\u001b[49m\n\u001b[32m   1336\u001b[39m \u001b[43m        \u001b[49m\u001b[43mdropna\u001b[49m\u001b[43m=\u001b[49m\u001b[38;5;28;43mself\u001b[39;49m\u001b[43m.\u001b[49m\u001b[43mdropna\u001b[49m\u001b[43m,\u001b[49m\n\u001b[32m   1337\u001b[39m \u001b[43m    \u001b[49m\u001b[43m)\u001b[49m\n\u001b[32m   1339\u001b[39m \u001b[38;5;28;01mif\u001b[39;00m observed \u001b[38;5;129;01mis\u001b[39;00m lib.no_default:\n\u001b[32m   1340\u001b[39m     \u001b[38;5;28;01mif\u001b[39;00m \u001b[38;5;28many\u001b[39m(ping._passed_categorical \u001b[38;5;28;01mfor\u001b[39;00m ping \u001b[38;5;129;01min\u001b[39;00m grouper.groupings):\n",
      "\u001b[36mFile \u001b[39m\u001b[32m~/Programming/dano-hackatoon-2025/venv/lib/python3.13/site-packages/pandas/core/groupby/grouper.py:929\u001b[39m, in \u001b[36mget_grouper\u001b[39m\u001b[34m(obj, key, axis, level, sort, observed, validate, dropna)\u001b[39m\n\u001b[32m    927\u001b[39m \u001b[38;5;66;03m# a passed-in Grouper, directly convert\u001b[39;00m\n\u001b[32m    928\u001b[39m \u001b[38;5;28;01mif\u001b[39;00m \u001b[38;5;28misinstance\u001b[39m(key, Grouper):\n\u001b[32m--> \u001b[39m\u001b[32m929\u001b[39m     grouper, obj = \u001b[43mkey\u001b[49m\u001b[43m.\u001b[49m\u001b[43m_get_grouper\u001b[49m\u001b[43m(\u001b[49m\u001b[43mobj\u001b[49m\u001b[43m,\u001b[49m\u001b[43m \u001b[49m\u001b[43mvalidate\u001b[49m\u001b[43m=\u001b[49m\u001b[38;5;28;43;01mFalse\u001b[39;49;00m\u001b[43m)\u001b[49m\n\u001b[32m    930\u001b[39m     \u001b[38;5;28;01mif\u001b[39;00m key.key \u001b[38;5;129;01mis\u001b[39;00m \u001b[38;5;28;01mNone\u001b[39;00m:\n\u001b[32m    931\u001b[39m         \u001b[38;5;28;01mreturn\u001b[39;00m grouper, \u001b[38;5;28mfrozenset\u001b[39m(), obj\n",
      "\u001b[36mFile \u001b[39m\u001b[32m~/Programming/dano-hackatoon-2025/venv/lib/python3.13/site-packages/pandas/core/resample.py:2282\u001b[39m, in \u001b[36mTimeGrouper._get_grouper\u001b[39m\u001b[34m(self, obj, validate)\u001b[39m\n\u001b[32m   2278\u001b[39m \u001b[38;5;28;01mdef\u001b[39;00m\u001b[38;5;250m \u001b[39m\u001b[34m_get_grouper\u001b[39m(\n\u001b[32m   2279\u001b[39m     \u001b[38;5;28mself\u001b[39m, obj: NDFrameT, validate: \u001b[38;5;28mbool\u001b[39m = \u001b[38;5;28;01mTrue\u001b[39;00m\n\u001b[32m   2280\u001b[39m ) -> \u001b[38;5;28mtuple\u001b[39m[BinGrouper, NDFrameT]:\n\u001b[32m   2281\u001b[39m     \u001b[38;5;66;03m# create the resampler and return our binner\u001b[39;00m\n\u001b[32m-> \u001b[39m\u001b[32m2282\u001b[39m     r = \u001b[38;5;28;43mself\u001b[39;49m\u001b[43m.\u001b[49m\u001b[43m_get_resampler\u001b[49m\u001b[43m(\u001b[49m\u001b[43mobj\u001b[49m\u001b[43m)\u001b[49m\n\u001b[32m   2283\u001b[39m     \u001b[38;5;28;01mreturn\u001b[39;00m r._grouper, cast(NDFrameT, r.obj)\n",
      "\u001b[36mFile \u001b[39m\u001b[32m~/Programming/dano-hackatoon-2025/venv/lib/python3.13/site-packages/pandas/core/resample.py:2272\u001b[39m, in \u001b[36mTimeGrouper._get_resampler\u001b[39m\u001b[34m(self, obj, kind)\u001b[39m\n\u001b[32m   2263\u001b[39m \u001b[38;5;28;01melif\u001b[39;00m \u001b[38;5;28misinstance\u001b[39m(ax, TimedeltaIndex):\n\u001b[32m   2264\u001b[39m     \u001b[38;5;28;01mreturn\u001b[39;00m TimedeltaIndexResampler(\n\u001b[32m   2265\u001b[39m         obj,\n\u001b[32m   2266\u001b[39m         timegrouper=\u001b[38;5;28mself\u001b[39m,\n\u001b[32m   (...)\u001b[39m\u001b[32m   2269\u001b[39m         gpr_index=ax,\n\u001b[32m   2270\u001b[39m     )\n\u001b[32m-> \u001b[39m\u001b[32m2272\u001b[39m \u001b[38;5;28;01mraise\u001b[39;00m \u001b[38;5;167;01mTypeError\u001b[39;00m(\n\u001b[32m   2273\u001b[39m     \u001b[33m\"\u001b[39m\u001b[33mOnly valid with DatetimeIndex, \u001b[39m\u001b[33m\"\u001b[39m\n\u001b[32m   2274\u001b[39m     \u001b[33m\"\u001b[39m\u001b[33mTimedeltaIndex or PeriodIndex, \u001b[39m\u001b[33m\"\u001b[39m\n\u001b[32m   2275\u001b[39m     \u001b[33mf\u001b[39m\u001b[33m\"\u001b[39m\u001b[33mbut got an instance of \u001b[39m\u001b[33m'\u001b[39m\u001b[38;5;132;01m{\u001b[39;00m\u001b[38;5;28mtype\u001b[39m(ax).\u001b[34m__name__\u001b[39m\u001b[38;5;132;01m}\u001b[39;00m\u001b[33m'\u001b[39m\u001b[33m\"\u001b[39m\n\u001b[32m   2276\u001b[39m )\n",
      "\u001b[31mTypeError\u001b[39m: Only valid with DatetimeIndex, TimedeltaIndex or PeriodIndex, but got an instance of 'Index'"
     ]
    }
   ],
   "source": [
    "\n",
    "# 1. Прогнозирование активности заработка бобров\n",
    "# Агрегация по дням\n",
    "daily_earnings = earnings.groupby(pd.Grouper(key='Дата', freq='D'))['Сумма вознаграждения'].sum().reset_index()\n",
    "\n",
    "# Подготовка данных для Prophet\n",
    "earnings_prophet = daily_earnings.rename(columns={'Дата': 'ds', 'Сумма вознаграждения': 'y'})\n"
   ]
  },
  {
   "cell_type": "code",
   "execution_count": null,
   "metadata": {},
   "outputs": [],
   "source": [
    "\n",
    "# Создание и обучение модели\n",
    "model = Prophet(weekly_seasonality=True, daily_seasonality=False)\n",
    "model.fit(earnings_prophet)\n",
    "\n",
    "# Прогноз на 30 дней\n",
    "future = model.make_future_dataframe(periods=30)\n",
    "forecast = model.predict(future)\n",
    "\n",
    "# Визуализация прогноза\n",
    "fig1 = model.plot(forecast)\n",
    "plt.title('Прогноз активности заработка бобров')\n",
    "plt.xlabel('Дата')\n",
    "plt.ylabel('Сумма вознаграждения')\n",
    "\n",
    "# 2. Прогнозирование трат в Боброшопе\n",
    "# Агрегация покупок по неделям\n",
    "weekly_spending = purchases.resample('W-Mon', on='Дата оформления заказа')['Стоимость в валюте'].sum().reset_index()\n",
    "\n",
    "# Прогноз с использованием ARIMA\n",
    "from statsmodels.tsa.arima.model import ARIMA\n",
    "\n",
    "# Обучение модели\n",
    "model_arima = ARIMA(weekly_spending['Стоимость в валюте'], order=(1,1,1))\n",
    "model_fit = model_arima.fit()\n",
    "\n",
    "# Прогноз на 8 недель\n",
    "forecast_spending = model_fit.forecast(steps=8)\n",
    "\n",
    "# Визуализация\n",
    "plt.figure()\n",
    "plt.plot(weekly_spending['Дата оформления заказа'], weekly_spending['Стоимость в валюте'], label='История')\n",
    "plt.plot(pd.date_range(start=weekly_spending['Дата оформления заказа'].iloc[-1], periods=8, freq='W'), \n",
    "         forecast_spending, label='Прогноз', linestyle='--')\n",
    "plt.title('Прогноз трат в Боброшопе')\n",
    "plt.legend()\n",
    "\n",
    "# 3. Анализ взаимосвязи прогнозов\n",
    "# Создание единого датафрейма с прогнозами\n",
    "combined_forecast = pd.DataFrame({\n",
    "    'date': forecast[['ds']].squeeze(),\n",
    "    'earnings_forecast': forecast[['yhat']].squeeze(),\n",
    "    'spending_forecast': forecast_spending.repeat(7)[:len(forecast)]  # Приведение к дневной гранулярности\n",
    "})\n",
    "\n",
    "# Расчет корреляции\n",
    "correlation = combined_forecast[['earnings_forecast', 'spending_forecast']].corr()\n",
    "print(f\"\\nКорреляция между прогнозами:\\n{correlation}\")\n",
    "\n",
    "# Кластеризация временных паттернов\n",
    "kmeans = KMeans(n_clusters=3)\n",
    "clusters = kmeans.fit_predict(combined_forecast[['earnings_forecast', 'spending_forecast']])\n",
    "combined_forecast['cluster'] = clusters\n",
    "\n",
    "# Визуализация кластеров\n",
    "plt.figure()\n",
    "sns.scatterplot(\n",
    "    data=combined_forecast,\n",
    "    x='earnings_forecast',\n",
    "    y='spending_forecast',\n",
    "    hue='cluster',\n",
    "    palette='viridis',\n",
    "    s=100\n",
    ")\n",
    "plt.title('Кластеризация паттернов активности')\n",
    "\n",
    "# 4. Анализ сезонности\n",
    "# Извлечение компонентов Prophet\n",
    "fig2 = model.plot_components(forecast)\n",
    "\n",
    "# Анализ недельной сезонности\n",
    "earnings_prophet['day_of_week'] = earnings_prophet['ds'].dt.day_name()\n",
    "weekly_pattern = earnings_prophet.groupby('day_of_week')['y'].mean()\n",
    "\n",
    "plt.figure()\n",
    "weekly_pattern.plot(kind='bar')\n",
    "plt.title('Средний заработок по дням недели')\n",
    "\n",
    "# 5. Оптимизация ассортимента на основе прогноза\n",
    "# Расчет ожидаемого спроса\n",
    "future_demand = pd.merge(\n",
    "    purchases.groupby(['Наименование товара', pd.Grouper(key='Дата оформления заказа', freq='M')])\n",
    "    .size().reset_index(name='count'),\n",
    "    forecast[['ds']].rename(columns={'ds': 'Дата оформления заказа'}),\n",
    "    how='right'\n",
    ")\n",
    "\n",
    "# Прогноз популярности товаров\n",
    "from sklearn.ensemble import RandomForestRegressor\n",
    "\n",
    "# Подготовка фичей\n",
    "future_demand['month'] = future_demand['Дата оформления заказа'].dt.month\n",
    "future_demand['year'] = future_demand['Дата оформления заказа'].dt.year\n",
    "\n",
    "# Обучение модели\n",
    "model_rf = RandomForestRegressor()\n",
    "model_rf.fit(future_demand[['month', 'year']], future_demand['count'])\n",
    "\n",
    "# Предсказание\n",
    "future_demand['predicted_demand'] = model_rf.predict(future_demand[['month', 'year']])\n",
    "\n",
    "# Рекомендации по топ-5 товарам\n",
    "top_items = future_demand.groupby('Наименование товара')['predicted_demand'].sum().nlargest(5)\n",
    "print(\"\\nРекомендуемые к увеличению запаса товары:\")\n",
    "print(top_items)\n",
    "\n",
    "plt.tight_layout()\n",
    "plt.show()"
   ]
  }
 ],
 "metadata": {
  "kernelspec": {
   "display_name": "venv",
   "language": "python",
   "name": "python3"
  },
  "language_info": {
   "codemirror_mode": {
    "name": "ipython",
    "version": 3
   },
   "file_extension": ".py",
   "mimetype": "text/x-python",
   "name": "python",
   "nbconvert_exporter": "python",
   "pygments_lexer": "ipython3",
   "version": "3.13.2"
  }
 },
 "nbformat": 4,
 "nbformat_minor": 2
}
