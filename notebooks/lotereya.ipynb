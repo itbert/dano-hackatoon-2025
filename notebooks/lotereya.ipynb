{
 "cells": [
  {
   "cell_type": "code",
   "execution_count": 1,
   "metadata": {},
   "outputs": [],
   "source": [
    "import pandas as pd\n",
    "import matplotlib.pyplot as plt\n",
    "import seaborn as sns"
   ]
  },
  {
   "cell_type": "code",
   "execution_count": 2,
   "metadata": {},
   "outputs": [],
   "source": [
    "# Настройки визуализации\n",
    "sns.set(style=\"whitegrid\")\n",
    "plt.rcParams['figure.figsize'] = (12, 6)"
   ]
  },
  {
   "cell_type": "code",
   "execution_count": 3,
   "metadata": {},
   "outputs": [
    {
     "name": "stderr",
     "output_type": "stream",
     "text": [
      "/var/folders/qf/xy929rcx1xnc19y51wt8zct00000gn/T/ipykernel_6157/2697367960.py:6: UserWarning: Parsing dates in %d.%m.%Y %H:%M format when dayfirst=False (the default) was specified. Pass `dayfirst=True` or specify a format to silence this warning.\n",
      "  purchases = pd.read_csv('data/coins-out.csv',\n"
     ]
    }
   ],
   "source": [
    "# Загрузка данных\n",
    "earnings = pd.read_csv('data/coins-come.csv', \n",
    "                       parse_dates=['Дата'],\n",
    "                       sep=';',\n",
    "                       encoding='utf-8-sig')\n",
    "purchases = pd.read_csv('data/coins-out.csv', \n",
    "                        parse_dates=['Дата оформления заказа'], \n",
    "                        sep=';',\n",
    "                        encoding='utf-8-sig')\n",
    "employees = pd.read_excel('data/personal-list.xlsx')"
   ]
  },
  {
   "cell_type": "code",
   "execution_count": 5,
   "metadata": {},
   "outputs": [
    {
     "data": {
      "application/vnd.microsoft.datawrangler.viewer.v0+json": {
       "columns": [
        {
         "name": "index",
         "rawType": "int64",
         "type": "integer"
        },
        {
         "name": "Дата оформления заказа",
         "rawType": "datetime64[ns]",
         "type": "datetime"
        },
        {
         "name": "Код сотрудника",
         "rawType": "object",
         "type": "string"
        },
        {
         "name": "Департамент",
         "rawType": "object",
         "type": "unknown"
        },
        {
         "name": "Наименование товара",
         "rawType": "object",
         "type": "string"
        },
        {
         "name": "Стоимость в валюте",
         "rawType": "int64",
         "type": "integer"
        },
        {
         "name": "Скидка",
         "rawType": "int64",
         "type": "integer"
        },
        {
         "name": "Количество",
         "rawType": "int64",
         "type": "integer"
        },
        {
         "name": "Категория",
         "rawType": "object",
         "type": "string"
        },
        {
         "name": "Статус товара",
         "rawType": "object",
         "type": "string"
        }
       ],
       "conversionMethod": "pd.DataFrame",
       "ref": "1cbcbeb8-ebb7-48d5-b920-796afdf7996c",
       "rows": [
        [
         "2637",
         "2024-07-31 09:20:00",
         "SU196380",
         "ДИРС.Разработка инфраструктурных продуктов.группа разработки",
         "Лотерея на мерч SOFT&HARD '24",
         "100",
         "0",
         "1",
         "В стиле КРОК",
         "закупка"
        ],
        [
         "2640",
         "2024-07-31 08:28:00",
         "SU134995",
         "ДВА.центральная служба технической поддержки",
         "Лотерея на мерч SOFT&HARD '24",
         "100",
         "0",
         "1",
         "В стиле КРОК",
         "закупка"
        ],
        [
         "2641",
         "2024-07-31 06:28:00",
         "SU67226",
         "ДРПО.КИС.Практика \"Медицинские информационные системы\"",
         "Лотерея на мерч SOFT&HARD '24",
         "100",
         "0",
         "1",
         "В стиле КРОК",
         "закупка"
        ],
        [
         "2643",
         "2024-07-31 00:46:00",
         "SU197899",
         "ДТК.Сервис.Первая линия",
         "Лотерея на мерч SOFT&HARD '24",
         "100",
         "0",
         "1",
         "В стиле КРОК",
         "закупка"
        ],
        [
         "2644",
         "2024-07-31 00:17:00",
         "SU163471",
         "ДРПО.ГИС.цифровые экосистемы.группа разработчиков",
         "Лотерея на мерч SOFT&HARD '24",
         "100",
         "0",
         "1",
         "В стиле КРОК",
         "закупка"
        ],
        [
         "2645",
         "2024-07-31 00:05:00",
         "SU4883",
         "ФД.отдел налоговой и бухгалтерской отчетности",
         "Лотерея на мерч SOFT&HARD '24",
         "100",
         "0",
         "1",
         "В стиле КРОК",
         "закупка"
        ],
        [
         "2646",
         "2024-07-30 23:23:00",
         "SU198054",
         "Служба охраны.группа обеспечения контрольно-пропускного режима",
         "Лотерея на мерч SOFT&HARD '24",
         "100",
         "0",
         "1",
         "В стиле КРОК",
         "закупка"
        ],
        [
         "2647",
         "2024-07-30 23:16:00",
         "SU199048",
         "ДИРС.группа инженеров по ИТ-инфраструктуре и мониторингу",
         "Лотерея на мерч SOFT&HARD '24",
         "100",
         "0",
         "1",
         "В стиле КРОК",
         "закупка"
        ],
        [
         "2648",
         "2024-07-30 23:04:00",
         "SU199058",
         "ДИРС.группа инженеров по вычислительной инфраструктуре",
         "Лотерея на мерч SOFT&HARD '24",
         "100",
         "0",
         "1",
         "В стиле КРОК",
         "закупка"
        ],
        [
         "2649",
         "2024-07-30 22:14:00",
         "SU190231",
         "ДВА.центральная служба технической поддержки",
         "Лотерея на мерч SOFT&HARD '24",
         "100",
         "0",
         "1",
         "В стиле КРОК",
         "закупка"
        ],
        [
         "2653",
         "2024-07-30 20:57:00",
         "SU176087",
         "ДИРС.группа инженеров по ИТ-инфраструктуре и мониторингу",
         "Лотерея на мерч SOFT&HARD '24",
         "100",
         "0",
         "1",
         "В стиле КРОК",
         "закупка"
        ],
        [
         "2656",
         "2024-07-30 20:04:00",
         "SU198694",
         "ДИРС.Информационная безопасность.Центр мониторинга безопасности",
         "Лотерея на мерч SOFT&HARD '24",
         "100",
         "0",
         "1",
         "В стиле КРОК",
         "закупка"
        ],
        [
         "2659",
         "2024-07-30 19:43:00",
         "SU162748",
         "ДРПО.Практика \"Time and Material\".группа тестировщиков",
         "Лотерея на мерч SOFT&HARD '24",
         "100",
         "0",
         "1",
         "В стиле КРОК",
         "закупка"
        ],
        [
         "2660",
         "2024-07-30 19:38:00",
         "SU134995",
         "ДВА.центральная служба технической поддержки",
         "Лотерея на мерч SOFT&HARD '24",
         "100",
         "0",
         "1",
         "В стиле КРОК",
         "закупка"
        ],
        [
         "2661",
         "2024-07-30 19:19:00",
         "SU197581",
         "ДИРС.Информационная безопасность.группа аналитиков по информационной безопасности",
         "Лотерея на мерч SOFT&HARD '24",
         "100",
         "0",
         "1",
         "В стиле КРОК",
         "закупка"
        ],
        [
         "2662",
         "2024-07-30 19:17:00",
         "SU93687",
         "ФД.отдел бюджетирования и оптимизации финансового учета",
         "Лотерея на мерч SOFT&HARD '24",
         "100",
         "0",
         "1",
         "В стиле КРОК",
         "закупка"
        ],
        [
         "2663",
         "2024-07-30 19:17:00",
         "SU196950",
         "ДБП.группа технических менеджеров по 1С и автоматизации бизнес-процессов",
         "Лотерея на мерч SOFT&HARD '24",
         "100",
         "0",
         "1",
         "В стиле КРОК",
         "закупка"
        ],
        [
         "2664",
         "2024-07-30 18:58:00",
         "SU166681",
         "ДВА.группа разработки 1С",
         "Лотерея на мерч SOFT&HARD '24",
         "200",
         "0",
         "2",
         "В стиле КРОК",
         "закупка"
        ],
        [
         "2666",
         "2024-07-30 18:14:00",
         "SU57517",
         "ДПМП.ОРК",
         "Лотерея на мерч SOFT&HARD '24",
         "100",
         "0",
         "1",
         "В стиле КРОК",
         "закупка"
        ],
        [
         "2667",
         "2024-07-30 18:08:00",
         "SU163925",
         "ДИМС.технические менеджеры по инженерным системам",
         "Лотерея на мерч SOFT&HARD '24",
         "300",
         "0",
         "3",
         "В стиле КРОК",
         "закупка"
        ],
        [
         "2672",
         "2024-07-30 17:37:00",
         "SU199348",
         "ДРПО.ГИС.финтех.группа аналитиков",
         "Лотерея на мерч SOFT&HARD '24",
         "100",
         "0",
         "1",
         "В стиле КРОК",
         "закупка"
        ],
        [
         "2673",
         "2024-07-30 17:33:00",
         "SU2546",
         "ДИРС.группа инженеров по инфраструктурному ПО",
         "Лотерея на мерч SOFT&HARD '24",
         "100",
         "0",
         "1",
         "В стиле КРОК",
         "закупка"
        ],
        [
         "2674",
         "2024-07-30 17:32:00",
         "SU166257",
         "ДТК.Цифровое производство.группа инженеров цифрового производства",
         "Лотерея на мерч SOFT&HARD '24",
         "100",
         "0",
         "1",
         "В стиле КРОК",
         "закупка"
        ],
        [
         "2675",
         "2024-07-30 17:31:00",
         "SU115549",
         "ДБП.группа консультантов по финансам",
         "Лотерея на мерч SOFT&HARD '24",
         "100",
         "0",
         "1",
         "В стиле КРОК",
         "закупка"
        ],
        [
         "2682",
         "2024-07-30 17:08:00",
         "SU196709",
         "ДБП.группа консультантов по финансам",
         "Лотерея на мерч SOFT&HARD '24",
         "100",
         "0",
         "1",
         "В стиле КРОК",
         "закупка"
        ],
        [
         "2683",
         "2024-07-30 17:08:00",
         "SU196709",
         "ДБП.группа консультантов по финансам",
         "Лотерея на мерч SOFT&HARD '24",
         "100",
         "0",
         "1",
         "В стиле КРОК",
         "закупка"
        ],
        [
         "2689",
         "2024-07-30 17:01:00",
         "SU198583",
         "ДИРС.Облачные сервисы.группа эксплуатации облачных сервисов",
         "Лотерея на мерч SOFT&HARD '24",
         "100",
         "0",
         "1",
         "В стиле КРОК",
         "закупка"
        ],
        [
         "2690",
         "2024-07-30 17:01:00",
         "SU198583",
         "ДИРС.Облачные сервисы.группа эксплуатации облачных сервисов",
         "Лотерея на мерч SOFT&HARD '24",
         "100",
         "0",
         "1",
         "В стиле КРОК",
         "закупка"
        ],
        [
         "2693",
         "2024-07-30 16:44:00",
         "SU199276",
         "ДРПО.ГИС.выборы. группа внедренцев",
         "Лотерея на мерч SOFT&HARD '24",
         "100",
         "0",
         "1",
         "В стиле КРОК",
         "закупка"
        ],
        [
         "2695",
         "2024-07-30 16:36:00",
         "SU198606",
         "ДИРС.группа инженеров по инфраструктурному ПО",
         "Лотерея на мерч SOFT&HARD '24",
         "100",
         "0",
         "1",
         "В стиле КРОК",
         "закупка"
        ],
        [
         "2697",
         "2024-07-30 16:36:00",
         "SU197377",
         "ДИРС.Облачные сервисы.группа поддержки продаж облачных сервисов",
         "Лотерея на мерч SOFT&HARD '24",
         "100",
         "0",
         "1",
         "В стиле КРОК",
         "закупка"
        ],
        [
         "2699",
         "2024-07-30 16:34:00",
         "SU2539",
         "ДИМС.группа СКС и Автоматизации инженерных систем",
         "Лотерея на мерч SOFT&HARD '24",
         "100",
         "0",
         "1",
         "В стиле КРОК",
         "закупка"
        ],
        [
         "2700",
         "2024-07-30 16:25:00",
         "SU171242",
         "ДРПО.ГИС.выборы. группа разработчиков",
         "Лотерея на мерч SOFT&HARD '24",
         "100",
         "0",
         "1",
         "В стиле КРОК",
         "закупка"
        ],
        [
         "2701",
         "2024-07-30 16:25:00",
         "SU171242",
         "ДРПО.ГИС.выборы. группа разработчиков",
         "Лотерея на мерч SOFT&HARD '24",
         "100",
         "0",
         "1",
         "В стиле КРОК",
         "закупка"
        ],
        [
         "2702",
         "2024-07-30 16:25:00",
         "SU171242",
         "ДРПО.ГИС.выборы. группа разработчиков",
         "Лотерея на мерч SOFT&HARD '24",
         "100",
         "0",
         "1",
         "В стиле КРОК",
         "закупка"
        ],
        [
         "2703",
         "2024-07-30 16:25:00",
         "SU171242",
         "ДРПО.ГИС.выборы. группа разработчиков",
         "Лотерея на мерч SOFT&HARD '24",
         "100",
         "0",
         "1",
         "В стиле КРОК",
         "закупка"
        ],
        [
         "2704",
         "2024-07-30 16:25:00",
         "SU171242",
         "ДРПО.ГИС.выборы. группа разработчиков",
         "Лотерея на мерч SOFT&HARD '24",
         "100",
         "0",
         "1",
         "В стиле КРОК",
         "закупка"
        ],
        [
         "2705",
         "2024-07-30 16:25:00",
         "SU171242",
         "ДРПО.ГИС.выборы. группа разработчиков",
         "Лотерея на мерч SOFT&HARD '24",
         "100",
         "0",
         "1",
         "В стиле КРОК",
         "закупка"
        ],
        [
         "2706",
         "2024-07-30 16:25:00",
         "SU171242",
         "ДРПО.ГИС.выборы. группа разработчиков",
         "Лотерея на мерч SOFT&HARD '24",
         "100",
         "0",
         "1",
         "В стиле КРОК",
         "закупка"
        ],
        [
         "2707",
         "2024-07-30 16:25:00",
         "SU171242",
         "ДРПО.ГИС.выборы. группа разработчиков",
         "Лотерея на мерч SOFT&HARD '24",
         "100",
         "0",
         "1",
         "В стиле КРОК",
         "закупка"
        ],
        [
         "2708",
         "2024-07-30 16:25:00",
         "SU171242",
         "ДРПО.ГИС.выборы. группа разработчиков",
         "Лотерея на мерч SOFT&HARD '24",
         "100",
         "0",
         "1",
         "В стиле КРОК",
         "закупка"
        ],
        [
         "2709",
         "2024-07-30 16:25:00",
         "SU171242",
         "ДРПО.ГИС.выборы. группа разработчиков",
         "Лотерея на мерч SOFT&HARD '24",
         "100",
         "0",
         "1",
         "В стиле КРОК",
         "закупка"
        ],
        [
         "2710",
         "2024-07-30 16:25:00",
         "SU171242",
         "ДРПО.ГИС.выборы. группа разработчиков",
         "Лотерея на мерч SOFT&HARD '24",
         "100",
         "0",
         "1",
         "В стиле КРОК",
         "закупка"
        ],
        [
         "2711",
         "2024-07-30 16:25:00",
         "SU171242",
         "ДРПО.ГИС.выборы. группа разработчиков",
         "Лотерея на мерч SOFT&HARD '24",
         "100",
         "0",
         "1",
         "В стиле КРОК",
         "закупка"
        ],
        [
         "2712",
         "2024-07-30 16:25:00",
         "SU171242",
         "ДРПО.ГИС.выборы. группа разработчиков",
         "Лотерея на мерч SOFT&HARD '24",
         "100",
         "0",
         "1",
         "В стиле КРОК",
         "закупка"
        ],
        [
         "2713",
         "2024-07-30 16:25:00",
         "SU171242",
         "ДРПО.ГИС.выборы. группа разработчиков",
         "Лотерея на мерч SOFT&HARD '24",
         "100",
         "0",
         "1",
         "В стиле КРОК",
         "закупка"
        ],
        [
         "2714",
         "2024-07-30 16:25:00",
         "SU171242",
         "ДРПО.ГИС.выборы. группа разработчиков",
         "Лотерея на мерч SOFT&HARD '24",
         "100",
         "0",
         "1",
         "В стиле КРОК",
         "закупка"
        ],
        [
         "2715",
         "2024-07-30 16:25:00",
         "SU198860",
         "ДИРС.Информационная безопасность.группа инженеров по защите инфраструктуры",
         "Лотерея на мерч SOFT&HARD '24",
         "100",
         "0",
         "1",
         "В стиле КРОК",
         "закупка"
        ],
        [
         "2716",
         "2024-07-30 16:25:00",
         "SU198860",
         "ДИРС.Информационная безопасность.группа инженеров по защите инфраструктуры",
         "Лотерея на мерч SOFT&HARD '24",
         "100",
         "0",
         "1",
         "В стиле КРОК",
         "закупка"
        ],
        [
         "2717",
         "2024-07-30 16:25:00",
         "SU198860",
         "ДИРС.Информационная безопасность.группа инженеров по защите инфраструктуры",
         "Лотерея на мерч SOFT&HARD '24",
         "100",
         "0",
         "1",
         "В стиле КРОК",
         "закупка"
        ]
       ],
       "shape": {
        "columns": 9,
        "rows": 7621
       }
      },
      "text/html": [
       "<div>\n",
       "<style scoped>\n",
       "    .dataframe tbody tr th:only-of-type {\n",
       "        vertical-align: middle;\n",
       "    }\n",
       "\n",
       "    .dataframe tbody tr th {\n",
       "        vertical-align: top;\n",
       "    }\n",
       "\n",
       "    .dataframe thead th {\n",
       "        text-align: right;\n",
       "    }\n",
       "</style>\n",
       "<table border=\"1\" class=\"dataframe\">\n",
       "  <thead>\n",
       "    <tr style=\"text-align: right;\">\n",
       "      <th></th>\n",
       "      <th>Дата оформления заказа</th>\n",
       "      <th>Код сотрудника</th>\n",
       "      <th>Департамент</th>\n",
       "      <th>Наименование товара</th>\n",
       "      <th>Стоимость в валюте</th>\n",
       "      <th>Скидка</th>\n",
       "      <th>Количество</th>\n",
       "      <th>Категория</th>\n",
       "      <th>Статус товара</th>\n",
       "    </tr>\n",
       "  </thead>\n",
       "  <tbody>\n",
       "    <tr>\n",
       "      <th>2637</th>\n",
       "      <td>2024-07-31 09:20:00</td>\n",
       "      <td>SU196380</td>\n",
       "      <td>ДИРС.Разработка инфраструктурных продуктов.гру...</td>\n",
       "      <td>Лотерея на мерч SOFT&amp;HARD '24</td>\n",
       "      <td>100</td>\n",
       "      <td>0</td>\n",
       "      <td>1</td>\n",
       "      <td>В стиле КРОК</td>\n",
       "      <td>закупка</td>\n",
       "    </tr>\n",
       "    <tr>\n",
       "      <th>2640</th>\n",
       "      <td>2024-07-31 08:28:00</td>\n",
       "      <td>SU134995</td>\n",
       "      <td>ДВА.центральная служба технической поддержки</td>\n",
       "      <td>Лотерея на мерч SOFT&amp;HARD '24</td>\n",
       "      <td>100</td>\n",
       "      <td>0</td>\n",
       "      <td>1</td>\n",
       "      <td>В стиле КРОК</td>\n",
       "      <td>закупка</td>\n",
       "    </tr>\n",
       "    <tr>\n",
       "      <th>2641</th>\n",
       "      <td>2024-07-31 06:28:00</td>\n",
       "      <td>SU67226</td>\n",
       "      <td>ДРПО.КИС.Практика \"Медицинские информационные ...</td>\n",
       "      <td>Лотерея на мерч SOFT&amp;HARD '24</td>\n",
       "      <td>100</td>\n",
       "      <td>0</td>\n",
       "      <td>1</td>\n",
       "      <td>В стиле КРОК</td>\n",
       "      <td>закупка</td>\n",
       "    </tr>\n",
       "    <tr>\n",
       "      <th>2643</th>\n",
       "      <td>2024-07-31 00:46:00</td>\n",
       "      <td>SU197899</td>\n",
       "      <td>ДТК.Сервис.Первая линия</td>\n",
       "      <td>Лотерея на мерч SOFT&amp;HARD '24</td>\n",
       "      <td>100</td>\n",
       "      <td>0</td>\n",
       "      <td>1</td>\n",
       "      <td>В стиле КРОК</td>\n",
       "      <td>закупка</td>\n",
       "    </tr>\n",
       "    <tr>\n",
       "      <th>2644</th>\n",
       "      <td>2024-07-31 00:17:00</td>\n",
       "      <td>SU163471</td>\n",
       "      <td>ДРПО.ГИС.цифровые экосистемы.группа разработчиков</td>\n",
       "      <td>Лотерея на мерч SOFT&amp;HARD '24</td>\n",
       "      <td>100</td>\n",
       "      <td>0</td>\n",
       "      <td>1</td>\n",
       "      <td>В стиле КРОК</td>\n",
       "      <td>закупка</td>\n",
       "    </tr>\n",
       "    <tr>\n",
       "      <th>...</th>\n",
       "      <td>...</td>\n",
       "      <td>...</td>\n",
       "      <td>...</td>\n",
       "      <td>...</td>\n",
       "      <td>...</td>\n",
       "      <td>...</td>\n",
       "      <td>...</td>\n",
       "      <td>...</td>\n",
       "      <td>...</td>\n",
       "    </tr>\n",
       "    <tr>\n",
       "      <th>30305</th>\n",
       "      <td>2022-06-20 09:39:00</td>\n",
       "      <td>SU3228</td>\n",
       "      <td>ДТК.Сервис.группа управления сервисными проектами</td>\n",
       "      <td>Лотерейный билет \"Надо собраться\"</td>\n",
       "      <td>30</td>\n",
       "      <td>0</td>\n",
       "      <td>1</td>\n",
       "      <td>В стиле КРОК</td>\n",
       "      <td>закончился</td>\n",
       "    </tr>\n",
       "    <tr>\n",
       "      <th>30306</th>\n",
       "      <td>2022-06-20 09:37:00</td>\n",
       "      <td>SU57005</td>\n",
       "      <td>ДПМП.группа управления проектами по техническо...</td>\n",
       "      <td>Лотерейный билет \"Надо собраться\"</td>\n",
       "      <td>30</td>\n",
       "      <td>0</td>\n",
       "      <td>1</td>\n",
       "      <td>В стиле КРОК</td>\n",
       "      <td>закончился</td>\n",
       "    </tr>\n",
       "    <tr>\n",
       "      <th>30307</th>\n",
       "      <td>2022-06-20 09:36:00</td>\n",
       "      <td>SU152323</td>\n",
       "      <td>ДВА.группа разработки 1С</td>\n",
       "      <td>Лотерейный билет \"Надо собраться\"</td>\n",
       "      <td>30</td>\n",
       "      <td>0</td>\n",
       "      <td>1</td>\n",
       "      <td>В стиле КРОК</td>\n",
       "      <td>закончился</td>\n",
       "    </tr>\n",
       "    <tr>\n",
       "      <th>30308</th>\n",
       "      <td>2022-06-20 09:35:00</td>\n",
       "      <td>SU152323</td>\n",
       "      <td>ДВА.группа разработки 1С</td>\n",
       "      <td>Лотерейный билет \"Надо собраться\"</td>\n",
       "      <td>30</td>\n",
       "      <td>0</td>\n",
       "      <td>1</td>\n",
       "      <td>В стиле КРОК</td>\n",
       "      <td>закончился</td>\n",
       "    </tr>\n",
       "    <tr>\n",
       "      <th>30309</th>\n",
       "      <td>2022-06-20 09:35:00</td>\n",
       "      <td>SU152323</td>\n",
       "      <td>ДВА.группа разработки 1С</td>\n",
       "      <td>Лотерейный билет \"Надо собраться\"</td>\n",
       "      <td>30</td>\n",
       "      <td>0</td>\n",
       "      <td>1</td>\n",
       "      <td>В стиле КРОК</td>\n",
       "      <td>закончился</td>\n",
       "    </tr>\n",
       "  </tbody>\n",
       "</table>\n",
       "<p>7621 rows × 9 columns</p>\n",
       "</div>"
      ],
      "text/plain": [
       "      Дата оформления заказа Код сотрудника  \\\n",
       "2637     2024-07-31 09:20:00       SU196380   \n",
       "2640     2024-07-31 08:28:00       SU134995   \n",
       "2641     2024-07-31 06:28:00        SU67226   \n",
       "2643     2024-07-31 00:46:00       SU197899   \n",
       "2644     2024-07-31 00:17:00       SU163471   \n",
       "...                      ...            ...   \n",
       "30305    2022-06-20 09:39:00         SU3228   \n",
       "30306    2022-06-20 09:37:00        SU57005   \n",
       "30307    2022-06-20 09:36:00       SU152323   \n",
       "30308    2022-06-20 09:35:00       SU152323   \n",
       "30309    2022-06-20 09:35:00       SU152323   \n",
       "\n",
       "                                             Департамент  \\\n",
       "2637   ДИРС.Разработка инфраструктурных продуктов.гру...   \n",
       "2640        ДВА.центральная служба технической поддержки   \n",
       "2641   ДРПО.КИС.Практика \"Медицинские информационные ...   \n",
       "2643                             ДТК.Сервис.Первая линия   \n",
       "2644   ДРПО.ГИС.цифровые экосистемы.группа разработчиков   \n",
       "...                                                  ...   \n",
       "30305  ДТК.Сервис.группа управления сервисными проектами   \n",
       "30306  ДПМП.группа управления проектами по техническо...   \n",
       "30307                           ДВА.группа разработки 1С   \n",
       "30308                           ДВА.группа разработки 1С   \n",
       "30309                           ДВА.группа разработки 1С   \n",
       "\n",
       "                     Наименование товара  Стоимость в валюте  Скидка  \\\n",
       "2637       Лотерея на мерч SOFT&HARD '24                 100       0   \n",
       "2640       Лотерея на мерч SOFT&HARD '24                 100       0   \n",
       "2641       Лотерея на мерч SOFT&HARD '24                 100       0   \n",
       "2643       Лотерея на мерч SOFT&HARD '24                 100       0   \n",
       "2644       Лотерея на мерч SOFT&HARD '24                 100       0   \n",
       "...                                  ...                 ...     ...   \n",
       "30305  Лотерейный билет \"Надо собраться\"                  30       0   \n",
       "30306  Лотерейный билет \"Надо собраться\"                  30       0   \n",
       "30307  Лотерейный билет \"Надо собраться\"                  30       0   \n",
       "30308  Лотерейный билет \"Надо собраться\"                  30       0   \n",
       "30309  Лотерейный билет \"Надо собраться\"                  30       0   \n",
       "\n",
       "       Количество     Категория Статус товара  \n",
       "2637            1  В стиле КРОК       закупка  \n",
       "2640            1  В стиле КРОК       закупка  \n",
       "2641            1  В стиле КРОК       закупка  \n",
       "2643            1  В стиле КРОК       закупка  \n",
       "2644            1  В стиле КРОК       закупка  \n",
       "...           ...           ...           ...  \n",
       "30305           1  В стиле КРОК    закончился  \n",
       "30306           1  В стиле КРОК    закончился  \n",
       "30307           1  В стиле КРОК    закончился  \n",
       "30308           1  В стиле КРОК    закончился  \n",
       "30309           1  В стиле КРОК    закончился  \n",
       "\n",
       "[7621 rows x 9 columns]"
      ]
     },
     "execution_count": 5,
     "metadata": {},
     "output_type": "execute_result"
    }
   ],
   "source": [
    "lottery_keywords = ['лотерея', 'билет', 'розыгрыш']\n",
    "lottery_items = purchases[\n",
    "    purchases['Наименование товара']\n",
    "    .str.contains('|'\n",
    "                  .join(lottery_keywords), case=False, na=False)\n",
    "]\n",
    "\n",
    "lottery_items"
   ]
  },
  {
   "cell_type": "code",
   "execution_count": 9,
   "metadata": {},
   "outputs": [
    {
     "name": "stdout",
     "output_type": "stream",
     "text": [
      "Столбцы employees: ['Внешний код', 'Факт. департамент', 'Факт. подразделение', 'Факт. группа', 'Факт. должность', 'Является РМ/ТЛ', 'Стаж фактический по компании', 'Пол', 'Возраст']\n",
      "Столбцы purchases: ['Дата оформления заказа', 'Код сотрудника', 'Департамент', 'Наименование товара', 'Стоимость в валюте', 'Скидка', 'Количество', 'Категория', 'Статус товара']\n"
     ]
    }
   ],
   "source": [
    "# 1. Проверим названия столбцов\n",
    "print(\"Столбцы employees:\", employees.columns.tolist())\n",
    "print(\"Столбцы purchases:\", purchases.columns.tolist())\n",
    "\n",
    "# 2. Исправим объединение (пример для разных названий)\n",
    "merged_data = pd.merge(\n",
    "    lottery_items,\n",
    "    employees[['Внешний код', 'Факт. должность']],  # Если код называется \"Внешний код\"\n",
    "    left_on='Код сотрудника', \n",
    "    right_on='Внешний код',\n",
    "    how='left'\n",
    ")\n",
    "\n",
    "# 3. Удалим дублирующий столбец\n",
    "merged_data = merged_data.drop(columns=['Внешний код'])"
   ]
  },
  {
   "cell_type": "code",
   "execution_count": 15,
   "metadata": {},
   "outputs": [
    {
     "data": {
      "text/plain": [
       "Index(['Дата оформления заказа', 'Код сотрудника', 'Департамент',\n",
       "       'Наименование товара', 'Стоимость в валюте', 'Скидка', 'Количество',\n",
       "       'Категория', 'Статус товара', 'Факт. должность'],\n",
       "      dtype='object')"
      ]
     },
     "execution_count": 15,
     "metadata": {},
     "output_type": "execute_result"
    }
   ],
   "source": [
    "merged_data.columns"
   ]
  },
  {
   "cell_type": "code",
   "execution_count": 16,
   "metadata": {},
   "outputs": [
    {
     "name": "stderr",
     "output_type": "stream",
     "text": [
      "/var/folders/qf/xy929rcx1xnc19y51wt8zct00000gn/T/ipykernel_6157/1831056846.py:2: FutureWarning: \n",
      "\n",
      "Passing `palette` without assigning `hue` is deprecated and will be removed in v0.14.0. Assign the `x` variable to `hue` and set `legend=False` for the same effect.\n",
      "\n",
      "  sns.violinplot(\n"
     ]
    },
    {
     "data": {
      "image/png": "[encoded data removed]",
      "text/plain": [
       "<Figure size 1000x600 with 1 Axes>"
      ]
     },
     "metadata": {},
     "output_type": "display_data"
    }
   ],
   "source": [
    "plt.figure(figsize=(10, 6))\n",
    "sns.violinplot(\n",
    "    data=merged_data,\n",
    "    x='Статус товара',\n",
    "    y='Скидка',\n",
    "    palette='Set2'\n",
    ")\n",
    "plt.title('Распределение скидок по статусам товара')\n",
    "plt.show()"
   ]
  },
  {
   "cell_type": "code",
   "execution_count": 17,
   "metadata": {},
   "outputs": [
    {
     "data": {
      "image/png": "[encoded data removed]",
      "text/plain": [
       "<Figure size 1200x800 with 2 Axes>"
      ]
     },
     "metadata": {},
     "output_type": "display_data"
    }
   ],
   "source": [
    "cross_tab = pd.crosstab(\n",
    "    merged_data['Факт. должность'],\n",
    "    merged_data['Категория']\n",
    ").iloc[:10, :5]  # Ограничим топ-10 должностей и 5 категорий\n",
    "\n",
    "plt.figure(figsize=(12, 8))\n",
    "sns.heatmap(\n",
    "    cross_tab,\n",
    "    annot=True,\n",
    "    fmt='d',\n",
    "    cmap='YlGnBu',\n",
    "    linewidths=0.5\n",
    ")\n",
    "plt.title('Тепловая карта: Должности vs Категории товаров')\n",
    "plt.xlabel('Категория')\n",
    "plt.ylabel('Должность')\n",
    "plt.show()"
   ]
  },
  {
   "cell_type": "code",
   "execution_count": 19,
   "metadata": {},
   "outputs": [
    {
     "data": {
      "image/png": "[encoded data removed]",
      "text/plain": [
       "<Figure size 1200x600 with 1 Axes>"
      ]
     },
     "metadata": {},
     "output_type": "display_data"
    }
   ],
   "source": [
    "merged_data['Месяц'] = merged_data['Дата оформления заказа'].dt.month\n",
    "monthly_sales = merged_data.groupby('Месяц')['Количество'].sum()\n",
    "\n",
    "plt.figure(figsize=(12, 6))\n",
    "sns.lineplot(\n",
    "    x=monthly_sales.index,\n",
    "    y=monthly_sales.values,\n",
    "    marker='o',\n",
    "    color='purple'\n",
    ")\n",
    "plt.title('Динамика покупок по месяцам лотерейных билетов')\n",
    "plt.xlabel('Месяц')\n",
    "plt.ylabel('Количество покупок')\n",
    "plt.xticks(range(1, 13))\n",
    "plt.grid(alpha=0.3)\n",
    "plt.show()"
   ]
  }
 ],
 "metadata": {
  "kernelspec": {
   "display_name": "venv",
   "language": "python",
   "name": "python3"
  },
  "language_info": {
   "codemirror_mode": {
    "name": "ipython",
    "version": 3
   },
   "file_extension": ".py",
   "mimetype": "text/x-python",
   "name": "python",
   "nbconvert_exporter": "python",
   "pygments_lexer": "ipython3",
   "version": "3.13.2"
  }
 },
 "nbformat": 4,
 "nbformat_minor": 2
}
